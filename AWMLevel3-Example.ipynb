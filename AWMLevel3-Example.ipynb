{
 "cells": [
  {
   "cell_type": "markdown",
   "metadata": {},
   "source": [
    "# AWM Level3"
   ]
  },
  {
   "cell_type": "markdown",
   "metadata": {},
   "source": [
    "We start by importing standard packages."
   ]
  },
  {
   "cell_type": "code",
   "execution_count": 1,
   "metadata": {},
   "outputs": [],
   "source": [
    "import numpy as np\n",
    "import gym"
   ]
  },
  {
   "cell_type": "markdown",
   "metadata": {},
   "source": [
    "Next, we import our OpenAI gym game."
   ]
  },
  {
   "cell_type": "code",
   "execution_count": 2,
   "metadata": {},
   "outputs": [],
   "source": [
    "import agentwebmodel"
   ]
  },
  {
   "cell_type": "markdown",
   "metadata": {},
   "source": [
    "### Defining a server"
   ]
  },
  {
   "cell_type": "markdown",
   "metadata": {},
   "source": [
    "We set up a simple server function for our webserver."
   ]
  },
  {
   "cell_type": "code",
   "execution_count": 3,
   "metadata": {},
   "outputs": [],
   "source": [
    "def webserver(action):\n",
    "    command = action['command']\n",
    "    targetfile = action['targetfile']\n",
    "    pname = action['pname']\n",
    "    pvalue = action['pvalue']\n",
    "    \n",
    "    if(command==0): return None,-1,False,{'msg':'None action'}\n",
    "    \n",
    "    elif(command==1):\n",
    "        if(targetfile==0):\n",
    "            if(pname==3 and pvalue==2): return [3],-1,False,{'msg':'Read action'}\n",
    "            else: return [1,2],-1,False,{'msg':'Read action'}\n",
    "        elif(targetfile==1): return [],-1,False,{'msg':'Read action'}\n",
    "        elif(targetfile==2): return [],-1,False,{'msg':'Read action'}\n",
    "        elif(targetfile==3): return [1],-1,False,{'msg':'Read action'}\n",
    "        \n",
    "    elif(command==2): return [],-1,False,{'msg':'Deepread action'}\n",
    "        \n",
    "    elif(command==3):\n",
    "        if(targetfile==3):\n",
    "            if(pname==1 and pvalue==1): return [],100,True,{'msg':'Flag retrieved'}\n",
    "            else: return [],-1,False,{'msg':'No flag'}\n",
    "        else: return [],-1,False,{'msg':'No flag'}\n",
    "        \n",
    "    else: return None,-1,False,{'msg':'Wrong command'}"
   ]
  },
  {
   "cell_type": "markdown",
   "metadata": {},
   "source": [
    "This function defines a webserver made up of four files. Notice that a parametrized *read()* and a parametrized *search()* are necessary to reach the objective file and retrieve the flag."
   ]
  },
  {
   "cell_type": "code",
   "execution_count": 4,
   "metadata": {},
   "outputs": [],
   "source": [
    "env = gym.make('awm_level3-v0',n_files=4,n_pnames=5,n_pvalues=5,webserver=webserver)"
   ]
  },
  {
   "cell_type": "markdown",
   "metadata": {},
   "source": [
    "We reset the environment, and get the first observation corresponding to the only file known to the attacker at the beginning (*index.html*)."
   ]
  },
  {
   "cell_type": "code",
   "execution_count": 5,
   "metadata": {},
   "outputs": [
    {
     "name": "stdout",
     "output_type": "stream",
     "text": [
      "[0]\n"
     ]
    }
   ],
   "source": [
    "observation = env.reset()\n",
    "print(observation)"
   ]
  },
  {
   "cell_type": "markdown",
   "metadata": {},
   "source": [
    "We send an empty command."
   ]
  },
  {
   "cell_type": "code",
   "execution_count": 6,
   "metadata": {},
   "outputs": [
    {
     "data": {
      "text/plain": [
       "(None, -1, False, {'msg': 'None action'})"
      ]
     },
     "execution_count": 6,
     "metadata": {},
     "output_type": "execute_result"
    }
   ],
   "source": [
    "env.step({'command': env.CMD_NONE, 'targetfile': 0, 'pname':0, 'pvalue':0})"
   ]
  },
  {
   "cell_type": "markdown",
   "metadata": {},
   "source": [
    "We receive an empty answer. Notice that the return values of *step()* are: (i) an observation, (ii) a reward, (iii) whether the game has ended, (iv) auxiliary messages.\n",
    "\n",
    "We check *index.html* (file 0) for a flag."
   ]
  },
  {
   "cell_type": "code",
   "execution_count": 7,
   "metadata": {},
   "outputs": [
    {
     "data": {
      "text/plain": [
       "([], -1, False, {'msg': 'No flag'})"
      ]
     },
     "execution_count": 7,
     "metadata": {},
     "output_type": "execute_result"
    }
   ],
   "source": [
    "env.step({'command': env.CMD_SEARCH, 'targetfile': 0, 'pname':0, 'pvalue':0})"
   ]
  },
  {
   "cell_type": "markdown",
   "metadata": {},
   "source": [
    "No flag here.\n",
    "\n",
    "We then look for links form *index.html* (file 0)"
   ]
  },
  {
   "cell_type": "code",
   "execution_count": 8,
   "metadata": {},
   "outputs": [
    {
     "data": {
      "text/plain": [
       "([1, 2], -1, False, {'msg': 'Read action'})"
      ]
     },
     "execution_count": 8,
     "metadata": {},
     "output_type": "execute_result"
    }
   ],
   "source": [
    "env.step({'command': env.CMD_READ, 'targetfile': 0, 'pname':0, 'pvalue':0})"
   ]
  },
  {
   "cell_type": "markdown",
   "metadata": {},
   "source": [
    "We discover links to file 1 and file 2.\n",
    "\n",
    "We look for more links in file 1."
   ]
  },
  {
   "cell_type": "code",
   "execution_count": 9,
   "metadata": {},
   "outputs": [
    {
     "data": {
      "text/plain": [
       "([], -1, False, {'msg': 'Read action'})"
      ]
     },
     "execution_count": 9,
     "metadata": {},
     "output_type": "execute_result"
    }
   ],
   "source": [
    "env.step({'command': env.CMD_READ, 'targetfile': 1, 'pname':0, 'pvalue':0})"
   ]
  },
  {
   "cell_type": "markdown",
   "metadata": {},
   "source": [
    "We try to uncover implicit links in file 1."
   ]
  },
  {
   "cell_type": "code",
   "execution_count": 10,
   "metadata": {},
   "outputs": [
    {
     "data": {
      "text/plain": [
       "([], -1, False, {'msg': 'Deepread action'})"
      ]
     },
     "execution_count": 10,
     "metadata": {},
     "output_type": "execute_result"
    }
   ],
   "source": [
    "env.step({'command': env.CMD_DEEPREAD, 'targetfile': 1, 'pname':0, 'pvalue':0})"
   ]
  },
  {
   "cell_type": "markdown",
   "metadata": {},
   "source": [
    "No hidden links here. We do a search on file 2."
   ]
  },
  {
   "cell_type": "code",
   "execution_count": 11,
   "metadata": {},
   "outputs": [
    {
     "data": {
      "text/plain": [
       "([], -1, False, {'msg': 'No flag'})"
      ]
     },
     "execution_count": 11,
     "metadata": {},
     "output_type": "execute_result"
    }
   ],
   "source": [
    "env.step({'command': env.CMD_SEARCH, 'targetfile': 2, 'pname':0, 'pvalue':0})"
   ]
  },
  {
   "cell_type": "markdown",
   "metadata": {},
   "source": [
    "We try a parametrized search of links on file 0."
   ]
  },
  {
   "cell_type": "code",
   "execution_count": 12,
   "metadata": {},
   "outputs": [
    {
     "data": {
      "text/plain": [
       "([1, 2], -1, False, {'msg': 'Read action'})"
      ]
     },
     "execution_count": 12,
     "metadata": {},
     "output_type": "execute_result"
    }
   ],
   "source": [
    "env.step({'command': env.CMD_READ, 'targetfile': 0, 'pname':2, 'pvalue':2})"
   ]
  },
  {
   "cell_type": "markdown",
   "metadata": {},
   "source": [
    "No discovery. We try with a different sets of parameter name and value."
   ]
  },
  {
   "cell_type": "code",
   "execution_count": 13,
   "metadata": {},
   "outputs": [
    {
     "data": {
      "text/plain": [
       "([3], -1, False, {'msg': 'Read action'})"
      ]
     },
     "execution_count": 13,
     "metadata": {},
     "output_type": "execute_result"
    }
   ],
   "source": [
    "env.step({'command': env.CMD_READ, 'targetfile': 0, 'pname':3, 'pvalue':2})"
   ]
  },
  {
   "cell_type": "markdown",
   "metadata": {},
   "source": [
    "We found a new file. We check it for a flag."
   ]
  },
  {
   "cell_type": "code",
   "execution_count": 14,
   "metadata": {},
   "outputs": [
    {
     "data": {
      "text/plain": [
       "([], -1, False, {'msg': 'No flag'})"
      ]
     },
     "execution_count": 14,
     "metadata": {},
     "output_type": "execute_result"
    }
   ],
   "source": [
    "env.step({'command': env.CMD_SEARCH, 'targetfile':3, 'pname':0, 'pvalue':0})"
   ]
  },
  {
   "cell_type": "markdown",
   "metadata": {},
   "source": [
    "No flag with the standard parameters. We try a new set of parameter name and value."
   ]
  },
  {
   "cell_type": "code",
   "execution_count": 15,
   "metadata": {},
   "outputs": [
    {
     "data": {
      "text/plain": [
       "([], 100, True, {'msg': 'Flag retrieved'})"
      ]
     },
     "execution_count": 15,
     "metadata": {},
     "output_type": "execute_result"
    }
   ],
   "source": [
    "env.step({'command': env.CMD_SEARCH, 'targetfile':3, 'pname':1, 'pvalue':1})"
   ]
  },
  {
   "cell_type": "markdown",
   "metadata": {},
   "source": [
    "We found the flag!"
   ]
  }
 ],
 "metadata": {
  "kernelspec": {
   "display_name": "Python 3",
   "language": "python",
   "name": "python3"
  },
  "language_info": {
   "codemirror_mode": {
    "name": "ipython",
    "version": 3
   },
   "file_extension": ".py",
   "mimetype": "text/x-python",
   "name": "python",
   "nbconvert_exporter": "python",
   "pygments_lexer": "ipython3",
   "version": "3.8.5"
  }
 },
 "nbformat": 4,
 "nbformat_minor": 4
}
